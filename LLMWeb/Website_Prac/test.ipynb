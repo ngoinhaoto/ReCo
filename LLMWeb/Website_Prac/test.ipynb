{
 "cells": [
  {
   "cell_type": "code",
   "execution_count": 1,
   "metadata": {},
   "outputs": [
    {
     "ename": "ImportError",
     "evalue": "cannot import name 'ChatChain' from 'langchain.chains' (e:\\Anaconda\\reco\\lib\\site-packages\\langchain\\chains\\__init__.py)",
     "output_type": "error",
     "traceback": [
      "\u001b[1;31m---------------------------------------------------------------------------\u001b[0m",
      "\u001b[1;31mImportError\u001b[0m                               Traceback (most recent call last)",
      "\u001b[1;32md:\\Python\\LLMWeb\\Website_Prac\\test.ipynb Cell 1\u001b[0m line \u001b[0;36m2\n\u001b[0;32m      <a href='vscode-notebook-cell:/d%3A/Python/LLMWeb/Website_Prac/test.ipynb#W0sZmlsZQ%3D%3D?line=0'>1</a>\u001b[0m \u001b[39mfrom\u001b[39;00m \u001b[39mlangchain\u001b[39;00m \u001b[39mimport\u001b[39;00m OpenAI, PromptTemplate\n\u001b[1;32m----> <a href='vscode-notebook-cell:/d%3A/Python/LLMWeb/Website_Prac/test.ipynb#W0sZmlsZQ%3D%3D?line=1'>2</a>\u001b[0m \u001b[39mfrom\u001b[39;00m \u001b[39mlangchain\u001b[39;00m\u001b[39m.\u001b[39;00m\u001b[39mchains\u001b[39;00m \u001b[39mimport\u001b[39;00m ChatChain\n\u001b[0;32m      <a href='vscode-notebook-cell:/d%3A/Python/LLMWeb/Website_Prac/test.ipynb#W0sZmlsZQ%3D%3D?line=2'>3</a>\u001b[0m \u001b[39mfrom\u001b[39;00m \u001b[39mdotenv\u001b[39;00m \u001b[39mimport\u001b[39;00m load_dotenv\n\u001b[0;32m      <a href='vscode-notebook-cell:/d%3A/Python/LLMWeb/Website_Prac/test.ipynb#W0sZmlsZQ%3D%3D?line=4'>5</a>\u001b[0m load_dotenv()\n",
      "\u001b[1;31mImportError\u001b[0m: cannot import name 'ChatChain' from 'langchain.chains' (e:\\Anaconda\\reco\\lib\\site-packages\\langchain\\chains\\__init__.py)"
     ]
    }
   ],
   "source": [
    "from langchain import OpenAI, PromptTemplate\n",
    "from langchain.chains import ChatChain\n",
    "from dotenv import load_dotenv\n",
    "\n",
    "load_dotenv()\n",
    "\n",
    "text_prompt = \"\"\"Generate a simple, eco-friendly fashion design based on this image of old clothes: {image}. \n",
    "The output should be a 512x512 pixel image.\"\"\"\n",
    "\n",
    "text_to_text_prompt = \"\"\"Come up with a detailed description of an eco-friendly fashion design based on this image: {image}\"\"\"\n",
    "\n",
    "gpt4vision = ChatChain(\n",
    "    llm=OpenAI(temperature=0),\n",
    "    prompt=PromptTemplate(text_prompt),\n",
    "    output_key=\"image\"\n",
    ")\n",
    "\n",
    "dalle2 = ChatChain(\n",
    "    llm=OpenAI(temperature=0.8), \n",
    "    prompt=PromptTemplate(text_prompt),\n",
    "    output_key=\"image_2\"  \n",
    ")\n",
    "\n",
    "gpt = ChatChain(\n",
    "    llm=OpenAI(temperature=0.7),\n",
    "    prompt=PromptTemplate(text_to_text_prompt),\n",
    "    output_key=\"text\"\n",
    ")  \n",
    "\n",
    "chains = {\n",
    "    \"gpt4vision\": gpt4vision,\n",
    "    \"dalle2\": dalle2,\n",
    "    \"gpt\": gpt\n",
    "}\n",
    "\n",
    "full_chain = chains\n",
    "\n",
    "result = full_chain(\n",
    "    image=\"lol.jpg\"  \n",
    ")\n",
    "\n",
    "print(result)"
   ]
  },
  {
   "cell_type": "code",
   "execution_count": null,
   "metadata": {},
   "outputs": [],
   "source": []
  }
 ],
 "metadata": {
  "kernelspec": {
   "display_name": "reco",
   "language": "python",
   "name": "python3"
  },
  "language_info": {
   "codemirror_mode": {
    "name": "ipython",
    "version": 3
   },
   "file_extension": ".py",
   "mimetype": "text/x-python",
   "name": "python",
   "nbconvert_exporter": "python",
   "pygments_lexer": "ipython3",
   "version": "3.9.18"
  }
 },
 "nbformat": 4,
 "nbformat_minor": 2
}
